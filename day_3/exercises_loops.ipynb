{
 "cells": [
  {
   "cell_type": "markdown",
   "metadata": {},
   "source": [
    "## exercise 03"
   ]
  },
  {
   "cell_type": "code",
   "execution_count": 5,
   "metadata": {},
   "outputs": [
    {
     "name": "stdout",
     "output_type": "stream",
     "text": [
      "the available number of items are 113\n"
     ]
    }
   ],
   "source": [
    "mydict = {'avocado':'1.99$',\n",
    "          'bell pepper':'0.89$',\n",
    "          'strawberries':'2.77$',\n",
    "          'lemon':'0.89$',\n",
    "          'blueberries':'7.99$',\n",
    "          'watermelon':'5.99$',\n",
    "          'peach':'1.85$'}\n",
    "budget = '100$'\n",
    "item = 'lemon'\n",
    "num = 0\n",
    "budget = float(budget.replace('$',''))\n",
    "while budget >0:\n",
    "    num += 1\n",
    "    budget -= float(mydict[item].replace('$',''))\n",
    " \n",
    "final_message = 'the available number of items are {}'.format(num) # you also need to write code for getting this message properly\n",
    "print(final_message)"
   ]
  },
  {
   "cell_type": "markdown",
   "metadata": {},
   "source": [
    "## exercise 04"
   ]
  },
  {
   "cell_type": "code",
   "execution_count": 15,
   "metadata": {},
   "outputs": [
    {
     "name": "stdout",
     "output_type": "stream",
     "text": [
      "current items = ( a, 13 )\n",
      "current items = ( e, 37 )\n",
      "current items = ( i, 42 )\n",
      "current items = ( o, 73 )\n",
      "current items = ( u, 169 )\n"
     ]
    }
   ],
   "source": [
    "vowels = ['a', 'e', 'i', 'o', 'u']\n",
    "numbers = [13, 37, 42, 73, 169]\n",
    "\n",
    "a = 0\n",
    "while a < len(vowels):\n",
    "    print('current items = ( {}, {} )'.format(vowels[a], numbers[a]))\n",
    "    a += 1"
   ]
  },
  {
   "cell_type": "markdown",
   "metadata": {},
   "source": [
    "## exercise 05"
   ]
  },
  {
   "cell_type": "code",
   "execution_count": 22,
   "metadata": {},
   "outputs": [
    {
     "name": "stdout",
     "output_type": "stream",
     "text": [
      "current items = ( a, 169 )\n",
      "current items = ( e, 73 )\n",
      "current items = ( i, 42 )\n",
      "current items = ( o, 37 )\n",
      "current items = ( u, 13 )\n"
     ]
    }
   ],
   "source": [
    "vowels = ['a', 'e', 'i', 'o', 'u']\n",
    "numbers = [13, 37, 42, 73, 169]\n",
    "\n",
    "a = 0\n",
    "while a < len(vowels):\n",
    "    print('current items = ( {}, {} )'.format(vowels[a], numbers[len(vowels)-a-1]))\n",
    "    a += 1"
   ]
  },
  {
   "cell_type": "markdown",
   "metadata": {},
   "source": [
    "## exercise 09"
   ]
  },
  {
   "cell_type": "code",
   "execution_count": null,
   "metadata": {},
   "outputs": [
    {
     "name": "stdout",
     "output_type": "stream",
     "text": [
      "['tree', 'density', 'soccer', 'turtle']\n"
     ]
    }
   ],
   "source": [
    "mylist = ['calculation',\n",
    "          'tree',\n",
    "          'density',\n",
    "          'soccer',\n",
    "          'cat',\n",
    "          'turtle',\n",
    "          'supercalifragilisticexpialidocious']\n",
    "\n",
    "for word in mylist:\n",
    "    a = list(word)\n",
    "    if 'a' in a:\n",
    "        mylist.remove(word)\n",
    "print(mylist)"
   ]
  },
  {
   "cell_type": "markdown",
   "metadata": {},
   "source": [
    "## exercise 09"
   ]
  },
  {
   "cell_type": "code",
   "execution_count": 9,
   "metadata": {},
   "outputs": [
    {
     "name": "stdout",
     "output_type": "stream",
     "text": [
      "['tree', 'density', 'soccer', 'turtle']\n"
     ]
    }
   ],
   "source": [
    "mylist = ['calculation',\n",
    "          'tree',\n",
    "          'density',\n",
    "          'soccer',\n",
    "          'cat',\n",
    "          'turtle',\n",
    "          'supercalifragilisticexpialidocious']\n",
    "\n",
    "for word in mylist:\n",
    "    a = list(word)\n",
    "    if 'a' in a:\n",
    "        mylist.remove(word)\n",
    "print(mylist)"
   ]
  },
  {
   "cell_type": "markdown",
   "metadata": {},
   "source": [
    "## exercise 10"
   ]
  },
  {
   "cell_type": "code",
   "execution_count": 11,
   "metadata": {},
   "outputs": [
    {
     "name": "stdout",
     "output_type": "stream",
     "text": [
      "\n",
      "Because I am sad, it is very difficult to open the doorknob and leave my house.\n",
      "Some people tell me taht the solution is to just concentrate and I will stop\n",
      "being sad, but they are clearly spouting nonsense. At least when my close\n",
      "friends found that I am sad, they just accepted it and have been there for me\n",
      "to help me get out of the house. Maybe one day I will be able to stop being\n",
      "sad and be more open about it.\n",
      "\n"
     ]
    }
   ],
   "source": [
    "text = r\"\"\"\n",
    "Because I am sad, it is very difficult to open the doorknob and leave my house.\n",
    "Some people tell me taht the solution is to just concentrate and I will stop\n",
    "being sad, but they are clearly spouting nonsense. At least when my close\n",
    "friends found that I am sad, they just accepted it and have been there for me\n",
    "to help me get out of the house. Maybe one day I will be able to stop being\n",
    "sad and be more open about it.\n",
    "\"\"\"\n",
    "\n",
    "text.replace('sad', 'secretly a duck')\n",
    "print(text)"
   ]
  },
  {
   "cell_type": "code",
   "execution_count": null,
   "metadata": {},
   "outputs": [],
   "source": []
  }
 ],
 "metadata": {
  "kernelspec": {
   "display_name": "base",
   "language": "python",
   "name": "python3"
  },
  "language_info": {
   "codemirror_mode": {
    "name": "ipython",
    "version": 3
   },
   "file_extension": ".py",
   "mimetype": "text/x-python",
   "name": "python",
   "nbconvert_exporter": "python",
   "pygments_lexer": "ipython3",
   "version": "3.11.7"
  }
 },
 "nbformat": 4,
 "nbformat_minor": 2
}
